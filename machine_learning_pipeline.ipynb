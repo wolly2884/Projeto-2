{
 "cells": [
  {
   "cell_type": "markdown",
   "metadata": {},
   "source": [
    "# Esteira de Aprendizado de Máquina"
   ]
  },
  {
   "cell_type": "markdown",
   "metadata": {},
   "source": [
    "Este notebook implementa uma esteira básica de aprendizado de máquina para o conjunto de dados Heart Disease, cobrindo desde o carregamento e pré-processamento dos dados até o treinamento, avaliação e predição de um modelo."
   ]
  },
  {
   "cell_type": "code",
   "execution_count": null,
   "metadata": {},
   "outputs": [],
   "source": [
    "# Instalar bibliotecas necessárias (se não estiverem instaladas)\n",
    "# Execute o comando abaixo no terminal ou descomente e execute aqui se necessário\n",
    "# !pip install ucimlrepo pandas scikit-learn matplotlib seaborn numpy"
   ]
  },
  {
   "cell_type": "code",
   "execution_count": null,
   "metadata": {},
   "outputs": [],
   "source": [
    "# Importar bibliotecas necessárias\n",
    "from ucimlrepo import fetch_ucirepo\n",
    "import pandas as pd\n",
    "import numpy as np\n",
    "from sklearn.model_selection import train_test_split\n",
    "from sklearn.preprocessing import StandardScaler\n",
    "from sklearn.tree import DecisionTreeClassifier\n",
    "from sklearn.metrics import accuracy_score, confusion_matrix\n",
    "import matplotlib.pyplot as plt\n",
    "import seaborn as sns"
   ]
  },
  {
   "cell_type": "markdown",
   "metadata": {},
   "source": [
    "## 1. Utilizar o conjunto de dados Heart Disease"
   ]
  },
  {
   "cell_type": "code",
   "execution_count": null,
   "metadata": {},
   "outputs": [],
   "source": [
    "# Carregar o dataset Heart Disease\n",
    "heart_disease = fetch_ucirepo(id=45)\n",
    "X = heart_disease.data.features\n",
    "y = heart_disease.data.targets\n",
    "\n",
    "# Combinar features e target em um único DataFrame\n",
    "df = X.copy()\n",
    "df['target'] = y\n",
    "\n",
    "print(\"Primeiras 5 linhas do dataset Heart Disease:\")\n",
    "print(df.head())"
   ]
  },
  {
   "cell_type": "markdown",
   "metadata": {},
   "source": [
    "## 2. Apresentar as estatísticas descritivas gerais do conjunto de dados"
   ]
  },
  {
   "cell_type": "code",
   "execution_count": null,
   "metadata": {},
   "outputs": [],
   "source": [
    "print(\"Estatísticas Descritivas:\")\n",
    "print(df.describe())\n",
    "\n",
    "print(\"\\nInformações do Dataset (tipos de dados, valores nulos):\")\n",
    "df.info()\n",
    "\n",
    "# Tratar valores ausentes (se houver) com a mediana para colunas numéricas\n",
    "df.fillna(df.median(numeric_only=True), inplace=True)"
   ]
  },
  {
   "cell_type": "markdown",
   "metadata": {},
   "source": [
    "## 3. Aplicar ao menos uma transformação no conjunto de dados em qualquer das colunas"
   ]
  },
  {
   "cell_type": "code",
   "execution_count": null,
   "metadata": {},
   "outputs": [],
   "source": [
    "# Criar uma nova feature 'chol_age_ratio' (relação colesterol/idade)\n",
    "df['chol_age_ratio'] = df['chol'] / df['age']\n",
    "\n",
    "print(\"Dataset após adição da coluna 'chol_age_ratio':\")\n",
    "print(df.head())"
   ]
  },
  {
   "cell_type": "markdown",
   "metadata": {},
   "source": [
    "## 4. Aplicar ao menos uma transformação no conjunto de dados em qualquer das linhas"
   ]
  },
  {
   "cell_type": "code",
   "execution_count": null,
   "metadata": {},
   "outputs": [],
   "source": [
    "# Remover outliers com base na coluna 'chol_age_ratio' (abaixo do 5º percentil)\n",
    "q05_chol_age_ratio = df['chol_age_ratio'].quantile(0.05)\n",
    "df_transformed = df[df['chol_age_ratio'] >= q05_chol_age_ratio]\n",
    "\n",
    "print(f\"Dataset original tinha {len(df)} linhas.\")\n",
    "print(f\"Dataset transformado tem {len(df_transformed)} linhas após remoção de outliers (chol_age_ratio < {q05_chol_age_ratio:.2f}).\")\n",
    "print(\"Primeiras 5 linhas do dataset após transformação de linha:\")\n",
    "print(df_transformed.head())"
   ]
  },
  {
   "cell_type": "markdown",
   "metadata": {},
   "source": [
    "## 5. Criar três subconjuntos: Treinamento, Validação e Testes"
   ]
  },
  {
   "cell_type": "code",
   "execution_count": null,
   "metadata": {},
   "outputs": [],
   "source": [
    "# Separar features (X) e target (y)\n",
    "X = df_transformed.drop('target', axis=1)\n",
    "y = df_transformed['target']\n",
    "\n",
    "# Dividir em treinamento (70%) e conjunto temporário (30%)\n",
    "X_train, X_temp, y_train, y_temp = train_test_split(X, y, test_size=0.3, random_state=42, stratify=y)\n",
    "\n",
    "# Dividir conjunto temporário em validação (15%) e testes (15%)\n",
    "X_val, X_test, y_val, y_test = train_test_split(X_temp, y_temp, test_size=0.5, random_state=42, stratify=y_temp)\n",
    "\n",
    "print(f\"Shape do subconjunto de treinamento (X_train): {X_train.shape}\")\n",
    "print(f\"Shape do subconjunto de validação (X_val): {X_val.shape}\")\n",
    "print(f\"Shape do subconjunto de testes (X_test): {X_test.shape}\")\n",
    "\n",
    "# Escalonar os dados\n",
    "scaler = StandardScaler()\n",
    "X_train_scaled = scaler.fit_transform(X_train)\n",
    "X_val_scaled = scaler.transform(X_val)\n",
    "X_test_scaled = scaler.transform(X_test)\n",
    "\n",
    "# Converter arrays escalonados de volta para DataFrames\n",
    "X_train_scaled = pd.DataFrame(X_train_scaled, columns=X_train.columns)\n",
    "X_val_scaled = pd.DataFrame(X_val_scaled, columns=X_val.columns)\n",
    "X_test_scaled = pd.DataFrame(X_test_scaled, columns=X_test.columns)\n",
    "\n",
    "print(\"\\nDados escalonados (primeiras 5 linhas do treino escalonado):\")\n",
    "print(X_train_scaled.head())"
   ]
  },
  {
   "cell_type": "markdown",
   "metadata": {},
   "source": [
    "## 6. Realizar o treinamento e a avaliação de um modelo"
   ]
  },
  {
   "cell_type": "code",
   "execution_count": null,
   "metadata": {},
   "outputs": [],
   "source": [
    "# Inicializar o modelo (Decision Tree Classifier)\n",
    "model = DecisionTreeClassifier(random_state=42)\n",
    "\n",
    "print(\"Treinando o modelo...\")\n",
    "model.fit(X_train_scaled, y_train)\n",
    "print(\"Modelo treinado com sucesso!\")\n",
    "\n",
    "# Avaliar o modelo no conjunto de validação\n",
    "y_pred_val = model.predict(X_val_scaled)\n",
    "accuracy_val = accuracy_score(y_val, y_pred_val)\n",
    "\n",
    "print(f\"\\nAcurácia do modelo no conjunto de validação: {accuracy_val:.4f}\")"
   ]
  },
  {
   "cell_type": "markdown",
   "metadata": {},
   "source": [
    "## 7. Apresentar a matriz de confusão e a acurácia para o modelo gerado"
   ]
  },
  {
   "cell_type": "code",
   "execution_count": null,
   "metadata": {},
   "outputs": [],
   "source": [
    "# Fazer predições no conjunto de testes\n",
    "y_pred_test = model.predict(X_test_scaled)\n",
    "\n",
    "# Calcular a acurácia no conjunto de testes\n",
    "accuracy_test = accuracy_score(y_test, y_pred_test)\n",
    "print(f\"Acurácia do modelo no conjunto de testes: {accuracy_test:.4f}\")\n",
    "\n",
    "# Gerar a matriz de confusão\n",
    "cm = confusion_matrix(y_test, y_pred_test)\n",
    "print(\"\\nMatriz de Confusão para o conjunto de testes:\")\n",
    "print(cm)\n",
    "\n",
    "# Visualizar a matriz de confusão\n",
    "plt.figure(figsize=(8, 6))\n",
    "sns.heatmap(cm, annot=True, fmt='d', cmap='Blues')\n",
    "plt.xlabel('Predito')\n",
    "plt.ylabel('Verdadeiro')\n",
    "plt.title('Matriz de Confusão')\n",
    "plt.show()"
   ]
  },
  {
   "cell_type": "markdown",
   "metadata": {},
   "source": [
    "## 8. Apresentar o resultado de uma predição do modelo implantado"
   ]
  },
  {
   "cell_type": "code",
   "execution_count": null,
   "metadata": {},
   "outputs": [],
   "source": [
    "# Selecionar uma amostra para predição (primeira amostra do conjunto de testes)\n",
    "sample_to_predict = X_test_scaled.iloc[0].values.reshape(1, -1)\n",
    "true_label = y_test.iloc[0]\n",
    "\n",
    "print(f\"Amostra de entrada para predição: {X_test.iloc[0].values}\")\n",
    "print(f\"Label verdadeiro para a amostra: {true_label}\")\n",
    "\n",
    "# Realizar a predição\n",
    "predicted_label = model.predict(sample_to_predict)[0]\n",
    "print(f\"Label predito pelo modelo: {predicted_label}\")"
   ]
  }
 ],
 "metadata": {
  "kernelspec": {
   "display_name": "Python 3",
   "language": "python",
   "name": "python3"
  },
  "language_info": {
   "codemirror_mode": {
    "name": "ipython",
    "version": 3
   },
   "file_extension": ".py",
   "mimetype": "text/x-python",
   "name": "python",
   "nbconvert_exporter": "python",
   "pygments_lexer": "ipython3",
   "version": "3.13.3"
  }
 },
 "nbformat": 4,
 "nbformat_minor": 2
}
